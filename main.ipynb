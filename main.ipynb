{
 "cells": [
  {
   "cell_type": "code",
   "execution_count": 6,
   "metadata": {},
   "outputs": [],
   "source": [
    "# import pandas as pd\n",
    "# import plotly.express as px\n",
    "\n",
    "# # tabela = pd.read_csv(\"cancelamentos.csv\")\n",
    "# tabela = tabela.drop(\"CustomerID\", axis=1)\n",
    "# tabela = tabela.dropna()\n",
    "\n",
    "# # display(tabela[\"cancelou\"].value_counts(normalize=True).map(\"{:.1%}\".format))\n",
    "\n",
    "# display(tabela[\"duracao_contrato\"].value_counts(normalize=True).map(\"{:.1%}\".format))\n",
    "\n",
    "# # display(tabela.groupby(\"duracao_contrato\").mean(numeric_only=True))\n",
    "\n",
    "# tabela = tabela[tabela[\"duracao_contrato\"]!=\"Monthly\"]\n",
    "\n",
    "# # display(tabela[\"cancelou\"].value_counts(normalize=True).map(\"{:.1%}\".format))\n",
    "\n",
    "# # display(tabela[\"assinatura\"].value_counts(normalize=True).map(\"{:.1%}\".format))\n",
    "# # display(tabela.groupby(\"assinatura\").mean(numeric_only=True))\n",
    "\n",
    "# for coluna in tabela.columns:\n",
    "#     grafico = px.histogram(tabela, x=coluna, color=\"cancelou\", width=600)\n",
    "#     grafico.show()\n",
    "\n",
    "\n",
    "\n",
    "\n"
   ]
  }
 ],
 "metadata": {
  "kernelspec": {
   "display_name": "Python 3",
   "language": "python",
   "name": "python3"
  },
  "language_info": {
   "codemirror_mode": {
    "name": "ipython",
    "version": 3
   },
   "file_extension": ".py",
   "mimetype": "text/x-python",
   "name": "python",
   "nbconvert_exporter": "python",
   "pygments_lexer": "ipython3",
   "version": "3.12.2"
  }
 },
 "nbformat": 4,
 "nbformat_minor": 2
}
